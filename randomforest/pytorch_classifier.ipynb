{
 "cells": [
  {
   "cell_type": "code",
   "execution_count": 1,
   "metadata": {},
   "outputs": [
    {
     "name": "stdout",
     "output_type": "stream",
     "text": [
      "CircleModelV2(\n",
      "  (layer_1): Linear(in_features=11, out_features=40, bias=True)\n",
      "  (layer_2): Linear(in_features=40, out_features=40, bias=True)\n",
      "  (layer_3): Linear(in_features=40, out_features=1, bias=True)\n",
      "  (relu): ReLU()\n",
      ")\n"
     ]
    }
   ],
   "source": [
    "# Build model with non-linear activation function\n",
    "from torch import nn\n",
    "class CircleModelV2(nn.Module):\n",
    "    def __init__(self):\n",
    "        super().__init__()\n",
    "        self.layer_1 = nn.Linear(in_features=11, out_features=40)\n",
    "        self.layer_2 = nn.Linear(in_features=40, out_features=40)\n",
    "        self.layer_3 = nn.Linear(in_features=40, out_features=1)\n",
    "        self.relu = nn.ReLU() # <- add in ReLU activation function\n",
    "        # Can also put sigmoid in the model \n",
    "        # This would mean you don't need to use it on the predictions\n",
    "        # self.sigmoid = nn.Sigmoid()\n",
    "\n",
    "    def forward(self, x):\n",
    "      # Intersperse the ReLU activation function between layers\n",
    "       return self.layer_3(self.relu(self.layer_2(self.relu(self.layer_1(x)))))\n",
    "\n",
    "model_3 = CircleModelV2().to('cuda')\n",
    "print(model_3)"
   ]
  },
  {
   "cell_type": "code",
   "execution_count": 2,
   "metadata": {},
   "outputs": [],
   "source": [
    "import pandas as pd\n",
    "import numpy as np\n",
    "from sklearn.model_selection import train_test_split\n",
    "dataset = pd.read_csv('loan_approval_dataset.csv',index_col=0)"
   ]
  },
  {
   "cell_type": "code",
   "execution_count": 3,
   "metadata": {},
   "outputs": [
    {
     "data": {
      "text/html": [
       "<div>\n",
       "<style scoped>\n",
       "    .dataframe tbody tr th:only-of-type {\n",
       "        vertical-align: middle;\n",
       "    }\n",
       "\n",
       "    .dataframe tbody tr th {\n",
       "        vertical-align: top;\n",
       "    }\n",
       "\n",
       "    .dataframe thead th {\n",
       "        text-align: right;\n",
       "    }\n",
       "</style>\n",
       "<table border=\"1\" class=\"dataframe\">\n",
       "  <thead>\n",
       "    <tr style=\"text-align: right;\">\n",
       "      <th></th>\n",
       "      <th>no_of_dependents</th>\n",
       "      <th>education</th>\n",
       "      <th>self_employed</th>\n",
       "      <th>income_annum</th>\n",
       "      <th>loan_amount</th>\n",
       "      <th>loan_term</th>\n",
       "      <th>cibil_score</th>\n",
       "      <th>residential_assets_value</th>\n",
       "      <th>commercial_assets_value</th>\n",
       "      <th>luxury_assets_value</th>\n",
       "      <th>bank_asset_value</th>\n",
       "      <th>loan_status</th>\n",
       "    </tr>\n",
       "    <tr>\n",
       "      <th>loan_id</th>\n",
       "      <th></th>\n",
       "      <th></th>\n",
       "      <th></th>\n",
       "      <th></th>\n",
       "      <th></th>\n",
       "      <th></th>\n",
       "      <th></th>\n",
       "      <th></th>\n",
       "      <th></th>\n",
       "      <th></th>\n",
       "      <th></th>\n",
       "      <th></th>\n",
       "    </tr>\n",
       "  </thead>\n",
       "  <tbody>\n",
       "    <tr>\n",
       "      <th>1</th>\n",
       "      <td>2</td>\n",
       "      <td>Graduate</td>\n",
       "      <td>No</td>\n",
       "      <td>9600000</td>\n",
       "      <td>29900000</td>\n",
       "      <td>12</td>\n",
       "      <td>778</td>\n",
       "      <td>2400000</td>\n",
       "      <td>17600000</td>\n",
       "      <td>22700000</td>\n",
       "      <td>8000000</td>\n",
       "      <td>Approved</td>\n",
       "    </tr>\n",
       "    <tr>\n",
       "      <th>2</th>\n",
       "      <td>0</td>\n",
       "      <td>Not Graduate</td>\n",
       "      <td>Yes</td>\n",
       "      <td>4100000</td>\n",
       "      <td>12200000</td>\n",
       "      <td>8</td>\n",
       "      <td>417</td>\n",
       "      <td>2700000</td>\n",
       "      <td>2200000</td>\n",
       "      <td>8800000</td>\n",
       "      <td>3300000</td>\n",
       "      <td>Rejected</td>\n",
       "    </tr>\n",
       "    <tr>\n",
       "      <th>3</th>\n",
       "      <td>3</td>\n",
       "      <td>Graduate</td>\n",
       "      <td>No</td>\n",
       "      <td>9100000</td>\n",
       "      <td>29700000</td>\n",
       "      <td>20</td>\n",
       "      <td>506</td>\n",
       "      <td>7100000</td>\n",
       "      <td>4500000</td>\n",
       "      <td>33300000</td>\n",
       "      <td>12800000</td>\n",
       "      <td>Rejected</td>\n",
       "    </tr>\n",
       "    <tr>\n",
       "      <th>4</th>\n",
       "      <td>3</td>\n",
       "      <td>Graduate</td>\n",
       "      <td>No</td>\n",
       "      <td>8200000</td>\n",
       "      <td>30700000</td>\n",
       "      <td>8</td>\n",
       "      <td>467</td>\n",
       "      <td>18200000</td>\n",
       "      <td>3300000</td>\n",
       "      <td>23300000</td>\n",
       "      <td>7900000</td>\n",
       "      <td>Rejected</td>\n",
       "    </tr>\n",
       "    <tr>\n",
       "      <th>5</th>\n",
       "      <td>5</td>\n",
       "      <td>Not Graduate</td>\n",
       "      <td>Yes</td>\n",
       "      <td>9800000</td>\n",
       "      <td>24200000</td>\n",
       "      <td>20</td>\n",
       "      <td>382</td>\n",
       "      <td>12400000</td>\n",
       "      <td>8200000</td>\n",
       "      <td>29400000</td>\n",
       "      <td>5000000</td>\n",
       "      <td>Rejected</td>\n",
       "    </tr>\n",
       "  </tbody>\n",
       "</table>\n",
       "</div>"
      ],
      "text/plain": [
       "         no_of_dependents      education self_employed  income_annum  \\\n",
       "loan_id                                                                \n",
       "1                       2       Graduate            No       9600000   \n",
       "2                       0   Not Graduate           Yes       4100000   \n",
       "3                       3       Graduate            No       9100000   \n",
       "4                       3       Graduate            No       8200000   \n",
       "5                       5   Not Graduate           Yes       9800000   \n",
       "\n",
       "         loan_amount  loan_term  cibil_score  residential_assets_value  \\\n",
       "loan_id                                                                  \n",
       "1           29900000         12          778                   2400000   \n",
       "2           12200000          8          417                   2700000   \n",
       "3           29700000         20          506                   7100000   \n",
       "4           30700000          8          467                  18200000   \n",
       "5           24200000         20          382                  12400000   \n",
       "\n",
       "         commercial_assets_value  luxury_assets_value  bank_asset_value  \\\n",
       "loan_id                                                                   \n",
       "1                       17600000             22700000           8000000   \n",
       "2                        2200000              8800000           3300000   \n",
       "3                        4500000             33300000          12800000   \n",
       "4                        3300000             23300000           7900000   \n",
       "5                        8200000             29400000           5000000   \n",
       "\n",
       "        loan_status  \n",
       "loan_id              \n",
       "1          Approved  \n",
       "2          Rejected  \n",
       "3          Rejected  \n",
       "4          Rejected  \n",
       "5          Rejected  "
      ]
     },
     "execution_count": 3,
     "metadata": {},
     "output_type": "execute_result"
    }
   ],
   "source": [
    "dataset.head()"
   ]
  },
  {
   "cell_type": "code",
   "execution_count": 4,
   "metadata": {},
   "outputs": [],
   "source": [
    "from sklearn import preprocessing\n",
    "\n",
    "\n",
    "label_encoder = preprocessing.LabelEncoder()\n",
    "cols = [\" education\", \" self_employed\", \" loan_status\"]\n",
    "for col in cols:\n",
    "    dataset[col] = label_encoder.fit_transform(dataset[col])\n",
    "X = dataset.drop([' loan_status'], axis=1)\n",
    "y = dataset[' loan_status']"
   ]
  },
  {
   "cell_type": "code",
   "execution_count": 5,
   "metadata": {},
   "outputs": [
    {
     "data": {
      "text/plain": [
       "(         no_of_dependents  education  self_employed  income_annum  \\\n",
       " loan_id                                                             \n",
       " 1                       2          0              0       9600000   \n",
       " 2                       0          1              1       4100000   \n",
       " 3                       3          0              0       9100000   \n",
       " 4                       3          0              0       8200000   \n",
       " 5                       5          1              1       9800000   \n",
       " ...                   ...        ...            ...           ...   \n",
       " 4265                    5          0              1       1000000   \n",
       " 4266                    0          1              1       3300000   \n",
       " 4267                    2          1              0       6500000   \n",
       " 4268                    1          1              0       4100000   \n",
       " 4269                    1          0              0       9200000   \n",
       " \n",
       "          loan_amount  loan_term  cibil_score  residential_assets_value  \\\n",
       " loan_id                                                                  \n",
       " 1           29900000         12          778                   2400000   \n",
       " 2           12200000          8          417                   2700000   \n",
       " 3           29700000         20          506                   7100000   \n",
       " 4           30700000          8          467                  18200000   \n",
       " 5           24200000         20          382                  12400000   \n",
       " ...              ...        ...          ...                       ...   \n",
       " 4265         2300000         12          317                   2800000   \n",
       " 4266        11300000         20          559                   4200000   \n",
       " 4267        23900000         18          457                   1200000   \n",
       " 4268        12800000          8          780                   8200000   \n",
       " 4269        29700000         10          607                  17800000   \n",
       " \n",
       "          commercial_assets_value  luxury_assets_value  bank_asset_value  \n",
       " loan_id                                                                  \n",
       " 1                       17600000             22700000           8000000  \n",
       " 2                        2200000              8800000           3300000  \n",
       " 3                        4500000             33300000          12800000  \n",
       " 4                        3300000             23300000           7900000  \n",
       " 5                        8200000             29400000           5000000  \n",
       " ...                          ...                  ...               ...  \n",
       " 4265                      500000              3300000            800000  \n",
       " 4266                     2900000             11000000           1900000  \n",
       " 4267                    12400000             18100000           7300000  \n",
       " 4268                      700000             14100000           5800000  \n",
       " 4269                    11800000             35700000          12000000  \n",
       " \n",
       " [4269 rows x 11 columns],\n",
       " loan_id\n",
       " 1       0\n",
       " 2       1\n",
       " 3       1\n",
       " 4       1\n",
       " 5       1\n",
       "        ..\n",
       " 4265    1\n",
       " 4266    0\n",
       " 4267    1\n",
       " 4268    0\n",
       " 4269    0\n",
       " Name:  loan_status, Length: 4269, dtype: int64)"
      ]
     },
     "execution_count": 5,
     "metadata": {},
     "output_type": "execute_result"
    }
   ],
   "source": [
    "X,y"
   ]
  },
  {
   "cell_type": "code",
   "execution_count": 6,
   "metadata": {},
   "outputs": [],
   "source": [
    "num_cols = X.select_dtypes(include=np.number).columns.tolist()"
   ]
  },
  {
   "cell_type": "code",
   "execution_count": 7,
   "metadata": {},
   "outputs": [],
   "source": [
    "from sklearn.preprocessing import MinMaxScaler\n",
    "scaler = MinMaxScaler().fit(dataset[num_cols])"
   ]
  },
  {
   "cell_type": "code",
   "execution_count": null,
   "metadata": {},
   "outputs": [],
   "source": [
    "X[num_cols] = scaler.transform(X[num_cols])"
   ]
  },
  {
   "cell_type": "code",
   "execution_count": 9,
   "metadata": {},
   "outputs": [],
   "source": [
    "import torch\n",
    "X_tensor = torch.tensor(X.values).type(torch.float)\n",
    "y_tensor = torch.tensor(y.values).type(torch.float)"
   ]
  },
  {
   "cell_type": "code",
   "execution_count": 10,
   "metadata": {},
   "outputs": [
    {
     "data": {
      "text/plain": [
       "(tensor([[0.4000, 0.0000, 0.0000, 0.9691, 0.7551, 0.5556, 0.7967, 0.0856, 0.9072,\n",
       "          0.5758, 0.5442],\n",
       "         [0.0000, 1.0000, 1.0000, 0.4021, 0.3036, 0.3333, 0.1950, 0.0959, 0.1134,\n",
       "          0.2185, 0.2245],\n",
       "         [0.6000, 0.0000, 0.0000, 0.9175, 0.7500, 1.0000, 0.3433, 0.2466, 0.2320,\n",
       "          0.8483, 0.8707],\n",
       "         [0.6000, 0.0000, 0.0000, 0.8247, 0.7755, 0.3333, 0.2783, 0.6267, 0.1701,\n",
       "          0.5913, 0.5374],\n",
       "         [1.0000, 1.0000, 1.0000, 0.9897, 0.6097, 1.0000, 0.1367, 0.4281, 0.4227,\n",
       "          0.7481, 0.3401]]),\n",
       " tensor([0., 1., 1., 1., 1.]))"
      ]
     },
     "execution_count": 10,
     "metadata": {},
     "output_type": "execute_result"
    }
   ],
   "source": [
    "X_tensor[:5], y_tensor[:5]"
   ]
  },
  {
   "cell_type": "code",
   "execution_count": 11,
   "metadata": {},
   "outputs": [
    {
     "data": {
      "text/plain": [
       "(3415, 854, 3415, 854)"
      ]
     },
     "execution_count": 11,
     "metadata": {},
     "output_type": "execute_result"
    }
   ],
   "source": [
    "# Split data into train and test sets\n",
    "from sklearn.model_selection import train_test_split\n",
    "\n",
    "X_train, X_test, y_train, y_test = train_test_split(X_tensor, \n",
    "                                                    y_tensor, \n",
    "                                                    test_size=0.2, # 20% test, 80% train\n",
    "                                                    random_state=42) # make the random split reproducible\n",
    "\n",
    "len(X_train), len(X_test), len(y_train), len(y_test)"
   ]
  },
  {
   "cell_type": "code",
   "execution_count": 12,
   "metadata": {},
   "outputs": [],
   "source": [
    "# Setup loss and optimizer \n",
    "loss_fn = nn.BCEWithLogitsLoss()\n",
    "optimizer = torch.optim.SGD(model_3.parameters(), lr=0.1)"
   ]
  },
  {
   "cell_type": "code",
   "execution_count": 13,
   "metadata": {},
   "outputs": [],
   "source": [
    "def accuracy_fn(y_true, y_pred):\n",
    "    correct = torch.eq(y_true, y_pred).sum().item() # torch.eq() calculates where two tensors are equal\n",
    "    acc = (correct / len(y_pred)) * 100 \n",
    "    return acc"
   ]
  },
  {
   "cell_type": "code",
   "execution_count": 14,
   "metadata": {},
   "outputs": [
    {
     "name": "stdout",
     "output_type": "stream",
     "text": [
      "Epoch: 0 | Loss: 0.69480, Accuracy: 39.18% | Test Loss: 0.69152, Test Accuracy: 60.77%\n",
      "Epoch: 100 | Loss: 0.62913, Accuracy: 62.08% | Test Loss: 0.62482, Test Accuracy: 62.76%\n",
      "Epoch: 200 | Loss: 0.40490, Accuracy: 85.71% | Test Loss: 0.39801, Test Accuracy: 86.07%\n",
      "Epoch: 300 | Loss: 0.23929, Accuracy: 92.04% | Test Loss: 0.23891, Test Accuracy: 90.52%\n",
      "Epoch: 400 | Loss: 0.21588, Accuracy: 92.56% | Test Loss: 0.21687, Test Accuracy: 91.45%\n",
      "Epoch: 500 | Loss: 0.20547, Accuracy: 93.24% | Test Loss: 0.20726, Test Accuracy: 92.39%\n",
      "Epoch: 600 | Loss: 0.19755, Accuracy: 93.56% | Test Loss: 0.19972, Test Accuracy: 92.62%\n",
      "Epoch: 700 | Loss: 0.19111, Accuracy: 93.65% | Test Loss: 0.19348, Test Accuracy: 93.21%\n",
      "Epoch: 800 | Loss: 0.18538, Accuracy: 93.70% | Test Loss: 0.18775, Test Accuracy: 93.21%\n",
      "Epoch: 900 | Loss: 0.17953, Accuracy: 93.88% | Test Loss: 0.18189, Test Accuracy: 93.21%\n"
     ]
    }
   ],
   "source": [
    "# Fit the model\n",
    "torch.manual_seed(42)\n",
    "epochs = 1000\n",
    "\n",
    "# Put all data on target device\n",
    "X_train, y_train = X_train.to(\"cuda\"), y_train.to(\"cuda\")\n",
    "X_test, y_test = X_test.to(\"cuda\"), y_test.to(\"cuda\")\n",
    "\n",
    "for epoch in range(epochs):\n",
    "    # 1. Forward pass\n",
    "    y_logits = model_3(X_train).squeeze()\n",
    "    y_pred = torch.round(torch.sigmoid(y_logits)) # logits -> prediction probabilities -> prediction labels\n",
    "    \n",
    "    # 2. Calculate loss and accuracy\n",
    "    loss = loss_fn(y_logits, y_train) # BCEWithLogitsLoss calculates loss using logits\n",
    "    acc = accuracy_fn(y_true=y_train, \n",
    "                      y_pred=y_pred)\n",
    "    \n",
    "    # 3. Optimizer zero grad\n",
    "    optimizer.zero_grad()\n",
    "\n",
    "    # 4. Loss backward\n",
    "    loss.backward()\n",
    "\n",
    "    # 5. Optimizer step\n",
    "    optimizer.step()\n",
    "\n",
    "    ### Testing\n",
    "    model_3.eval()\n",
    "    with torch.inference_mode():\n",
    "      # 1. Forward pass\n",
    "      test_logits = model_3(X_test).squeeze()\n",
    "      test_pred = torch.round(torch.sigmoid(test_logits)) # logits -> prediction probabilities -> prediction labels\n",
    "      # 2. Calculate loss and accuracy\n",
    "      test_loss = loss_fn(test_logits, y_test)\n",
    "      test_acc = accuracy_fn(y_true=y_test,\n",
    "                             y_pred=test_pred)\n",
    "\n",
    "    # Print out what's happening\n",
    "    if epoch % 100 == 0:\n",
    "        print(f\"Epoch: {epoch} | Loss: {loss:.5f}, Accuracy: {acc:.2f}% | Test Loss: {test_loss:.5f}, Test Accuracy: {test_acc:.2f}%\")"
   ]
  }
 ],
 "metadata": {
  "kernelspec": {
   "display_name": "Python 3",
   "language": "python",
   "name": "python3"
  },
  "language_info": {
   "codemirror_mode": {
    "name": "ipython",
    "version": 3
   },
   "file_extension": ".py",
   "mimetype": "text/x-python",
   "name": "python",
   "nbconvert_exporter": "python",
   "pygments_lexer": "ipython3",
   "version": "3.12.6"
  }
 },
 "nbformat": 4,
 "nbformat_minor": 2
}
